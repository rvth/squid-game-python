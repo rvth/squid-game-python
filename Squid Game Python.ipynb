{
 "cells": [
  {
   "cell_type": "code",
   "execution_count": null,
   "metadata": {},
   "outputs": [],
   "source": [
    "#importing pandas"
   ]
  },
  {
   "cell_type": "code",
   "execution_count": 2,
   "metadata": {},
   "outputs": [],
   "source": [
    "import pandas as pd "
   ]
  },
  {
   "cell_type": "code",
   "execution_count": null,
   "metadata": {},
   "outputs": [],
   "source": [
    "#creating and viewing a DataFrame"
   ]
  },
  {
   "cell_type": "code",
   "execution_count": 3,
   "metadata": {
    "scrolled": true
   },
   "outputs": [
    {
     "data": {
      "text/html": [
       "<div>\n",
       "<style scoped>\n",
       "    .dataframe tbody tr th:only-of-type {\n",
       "        vertical-align: middle;\n",
       "    }\n",
       "\n",
       "    .dataframe tbody tr th {\n",
       "        vertical-align: top;\n",
       "    }\n",
       "\n",
       "    .dataframe thead th {\n",
       "        text-align: right;\n",
       "    }\n",
       "</style>\n",
       "<table border=\"1\" class=\"dataframe\">\n",
       "  <thead>\n",
       "    <tr style=\"text-align: right;\">\n",
       "      <th></th>\n",
       "      <th>Name</th>\n",
       "      <th>Number</th>\n",
       "    </tr>\n",
       "  </thead>\n",
       "  <tbody>\n",
       "    <tr>\n",
       "      <th>player1</th>\n",
       "      <td>Oh Il-Nam</td>\n",
       "      <td>1</td>\n",
       "    </tr>\n",
       "    <tr>\n",
       "      <th>player67</th>\n",
       "      <td>Kang Sae-byeok</td>\n",
       "      <td>67</td>\n",
       "    </tr>\n",
       "    <tr>\n",
       "      <th>player101</th>\n",
       "      <td>Jang Deok-su</td>\n",
       "      <td>101</td>\n",
       "    </tr>\n",
       "    <tr>\n",
       "      <th>player199</th>\n",
       "      <td>Abdul Ali</td>\n",
       "      <td>199</td>\n",
       "    </tr>\n",
       "    <tr>\n",
       "      <th>player212</th>\n",
       "      <td>Han Mi-nyeo</td>\n",
       "      <td>212</td>\n",
       "    </tr>\n",
       "    <tr>\n",
       "      <th>player281</th>\n",
       "      <td>Cho Sang-woo</td>\n",
       "      <td>218</td>\n",
       "    </tr>\n",
       "    <tr>\n",
       "      <th>player240</th>\n",
       "      <td>Ji-yeong</td>\n",
       "      <td>240</td>\n",
       "    </tr>\n",
       "  </tbody>\n",
       "</table>\n",
       "</div>"
      ],
      "text/plain": [
       "                     Name  Number\n",
       "player1         Oh Il-Nam       1\n",
       "player67   Kang Sae-byeok      67\n",
       "player101    Jang Deok-su     101\n",
       "player199       Abdul Ali     199\n",
       "player212     Han Mi-nyeo     212\n",
       "player281    Cho Sang-woo     218\n",
       "player240        Ji-yeong     240"
      ]
     },
     "execution_count": 3,
     "metadata": {},
     "output_type": "execute_result"
    }
   ],
   "source": [
    "data = {'Name':  ['Oh Il-Nam', 'Kang Sae-byeok', 'Jang Deok-su', 'Abdul Ali', 'Han Mi-nyeo', 'Cho Sang-woo', 'Ji-yeong'],\n",
    "        'Number': [1, 67, 101, 199, 212, 218, 240],\n",
    "        }\n",
    "\n",
    "df = pd.DataFrame(data, index = [\"player1\", \"player67\", \"player101\", \"player199\", \"player212\", \"player281\", \"player240\"])\n",
    "\n",
    "df.head(10)"
   ]
  },
  {
   "cell_type": "code",
   "execution_count": null,
   "metadata": {},
   "outputs": [],
   "source": [
    "#viewing data from one row "
   ]
  },
  {
   "cell_type": "code",
   "execution_count": 4,
   "metadata": {},
   "outputs": [
    {
     "name": "stdout",
     "output_type": "stream",
     "text": [
      "Name      Kang Sae-byeok\n",
      "Number                67\n",
      "Name: player67, dtype: object\n"
     ]
    }
   ],
   "source": [
    "print(df.loc[\"player67\"])"
   ]
  },
  {
   "cell_type": "code",
   "execution_count": null,
   "metadata": {},
   "outputs": [],
   "source": [
    "#viewing data from one column"
   ]
  },
  {
   "cell_type": "code",
   "execution_count": 5,
   "metadata": {},
   "outputs": [
    {
     "data": {
      "text/plain": [
       "player1           Oh Il-Nam\n",
       "player67     Kang Sae-byeok\n",
       "player101      Jang Deok-su\n",
       "player199         Abdul Ali\n",
       "player212       Han Mi-nyeo\n",
       "player281      Cho Sang-woo\n",
       "player240          Ji-yeong\n",
       "Name: Name, dtype: object"
      ]
     },
     "execution_count": 5,
     "metadata": {},
     "output_type": "execute_result"
    }
   ],
   "source": [
    "names = df.Name\n",
    "names.head(10)"
   ]
  },
  {
   "cell_type": "code",
   "execution_count": null,
   "metadata": {},
   "outputs": [],
   "source": [
    "#getting a count of values in each column"
   ]
  },
  {
   "cell_type": "code",
   "execution_count": 6,
   "metadata": {},
   "outputs": [
    {
     "data": {
      "text/plain": [
       "Name      7\n",
       "Number    7\n",
       "dtype: int64"
      ]
     },
     "execution_count": 6,
     "metadata": {},
     "output_type": "execute_result"
    }
   ],
   "source": [
    "df.count()"
   ]
  },
  {
   "cell_type": "code",
   "execution_count": null,
   "metadata": {},
   "outputs": [],
   "source": [
    "#getting a count of values in one column and adding it to a variable "
   ]
  },
  {
   "cell_type": "code",
   "execution_count": 7,
   "metadata": {},
   "outputs": [
    {
     "data": {
      "text/plain": [
       "7"
      ]
     },
     "execution_count": 7,
     "metadata": {},
     "output_type": "execute_result"
    }
   ],
   "source": [
    "player_count = df['Name'].count()\n",
    "player_count"
   ]
  },
  {
   "cell_type": "code",
   "execution_count": null,
   "metadata": {},
   "outputs": [],
   "source": [
    "#adding a new row "
   ]
  },
  {
   "cell_type": "code",
   "execution_count": 8,
   "metadata": {},
   "outputs": [],
   "source": [
    "df.loc['player456'] = ['Seong Gi-hun', 456]"
   ]
  },
  {
   "cell_type": "code",
   "execution_count": null,
   "metadata": {},
   "outputs": [],
   "source": [
    "#viewing the new DataFrame "
   ]
  },
  {
   "cell_type": "code",
   "execution_count": 9,
   "metadata": {},
   "outputs": [
    {
     "data": {
      "text/html": [
       "<div>\n",
       "<style scoped>\n",
       "    .dataframe tbody tr th:only-of-type {\n",
       "        vertical-align: middle;\n",
       "    }\n",
       "\n",
       "    .dataframe tbody tr th {\n",
       "        vertical-align: top;\n",
       "    }\n",
       "\n",
       "    .dataframe thead th {\n",
       "        text-align: right;\n",
       "    }\n",
       "</style>\n",
       "<table border=\"1\" class=\"dataframe\">\n",
       "  <thead>\n",
       "    <tr style=\"text-align: right;\">\n",
       "      <th></th>\n",
       "      <th>Name</th>\n",
       "      <th>Number</th>\n",
       "    </tr>\n",
       "  </thead>\n",
       "  <tbody>\n",
       "    <tr>\n",
       "      <th>player1</th>\n",
       "      <td>Oh Il-Nam</td>\n",
       "      <td>1</td>\n",
       "    </tr>\n",
       "    <tr>\n",
       "      <th>player67</th>\n",
       "      <td>Kang Sae-byeok</td>\n",
       "      <td>67</td>\n",
       "    </tr>\n",
       "    <tr>\n",
       "      <th>player101</th>\n",
       "      <td>Jang Deok-su</td>\n",
       "      <td>101</td>\n",
       "    </tr>\n",
       "    <tr>\n",
       "      <th>player199</th>\n",
       "      <td>Abdul Ali</td>\n",
       "      <td>199</td>\n",
       "    </tr>\n",
       "    <tr>\n",
       "      <th>player212</th>\n",
       "      <td>Han Mi-nyeo</td>\n",
       "      <td>212</td>\n",
       "    </tr>\n",
       "    <tr>\n",
       "      <th>player281</th>\n",
       "      <td>Cho Sang-woo</td>\n",
       "      <td>218</td>\n",
       "    </tr>\n",
       "    <tr>\n",
       "      <th>player240</th>\n",
       "      <td>Ji-yeong</td>\n",
       "      <td>240</td>\n",
       "    </tr>\n",
       "    <tr>\n",
       "      <th>player456</th>\n",
       "      <td>Seong Gi-hun</td>\n",
       "      <td>456</td>\n",
       "    </tr>\n",
       "  </tbody>\n",
       "</table>\n",
       "</div>"
      ],
      "text/plain": [
       "                     Name  Number\n",
       "player1         Oh Il-Nam       1\n",
       "player67   Kang Sae-byeok      67\n",
       "player101    Jang Deok-su     101\n",
       "player199       Abdul Ali     199\n",
       "player212     Han Mi-nyeo     212\n",
       "player281    Cho Sang-woo     218\n",
       "player240        Ji-yeong     240\n",
       "player456    Seong Gi-hun     456"
      ]
     },
     "execution_count": 9,
     "metadata": {},
     "output_type": "execute_result"
    }
   ],
   "source": [
    "df.head(10)"
   ]
  },
  {
   "cell_type": "code",
   "execution_count": null,
   "metadata": {},
   "outputs": [],
   "source": [
    "#and a new count"
   ]
  },
  {
   "cell_type": "code",
   "execution_count": 10,
   "metadata": {},
   "outputs": [
    {
     "data": {
      "text/plain": [
       "Name      8\n",
       "Number    8\n",
       "dtype: int64"
      ]
     },
     "execution_count": 10,
     "metadata": {},
     "output_type": "execute_result"
    }
   ],
   "source": [
    "df.count()"
   ]
  },
  {
   "cell_type": "code",
   "execution_count": null,
   "metadata": {},
   "outputs": [],
   "source": [
    "#adding a new column"
   ]
  },
  {
   "cell_type": "code",
   "execution_count": 11,
   "metadata": {},
   "outputs": [],
   "source": [
    "df['Status'] = \"Playing\""
   ]
  },
  {
   "cell_type": "code",
   "execution_count": 12,
   "metadata": {},
   "outputs": [
    {
     "data": {
      "text/html": [
       "<div>\n",
       "<style scoped>\n",
       "    .dataframe tbody tr th:only-of-type {\n",
       "        vertical-align: middle;\n",
       "    }\n",
       "\n",
       "    .dataframe tbody tr th {\n",
       "        vertical-align: top;\n",
       "    }\n",
       "\n",
       "    .dataframe thead th {\n",
       "        text-align: right;\n",
       "    }\n",
       "</style>\n",
       "<table border=\"1\" class=\"dataframe\">\n",
       "  <thead>\n",
       "    <tr style=\"text-align: right;\">\n",
       "      <th></th>\n",
       "      <th>Name</th>\n",
       "      <th>Number</th>\n",
       "      <th>Status</th>\n",
       "    </tr>\n",
       "  </thead>\n",
       "  <tbody>\n",
       "    <tr>\n",
       "      <th>player1</th>\n",
       "      <td>Oh Il-Nam</td>\n",
       "      <td>1</td>\n",
       "      <td>Playing</td>\n",
       "    </tr>\n",
       "    <tr>\n",
       "      <th>player67</th>\n",
       "      <td>Kang Sae-byeok</td>\n",
       "      <td>67</td>\n",
       "      <td>Playing</td>\n",
       "    </tr>\n",
       "    <tr>\n",
       "      <th>player101</th>\n",
       "      <td>Jang Deok-su</td>\n",
       "      <td>101</td>\n",
       "      <td>Playing</td>\n",
       "    </tr>\n",
       "    <tr>\n",
       "      <th>player199</th>\n",
       "      <td>Abdul Ali</td>\n",
       "      <td>199</td>\n",
       "      <td>Playing</td>\n",
       "    </tr>\n",
       "    <tr>\n",
       "      <th>player212</th>\n",
       "      <td>Han Mi-nyeo</td>\n",
       "      <td>212</td>\n",
       "      <td>Playing</td>\n",
       "    </tr>\n",
       "    <tr>\n",
       "      <th>player281</th>\n",
       "      <td>Cho Sang-woo</td>\n",
       "      <td>218</td>\n",
       "      <td>Playing</td>\n",
       "    </tr>\n",
       "    <tr>\n",
       "      <th>player240</th>\n",
       "      <td>Ji-yeong</td>\n",
       "      <td>240</td>\n",
       "      <td>Playing</td>\n",
       "    </tr>\n",
       "    <tr>\n",
       "      <th>player456</th>\n",
       "      <td>Seong Gi-hun</td>\n",
       "      <td>456</td>\n",
       "      <td>Playing</td>\n",
       "    </tr>\n",
       "  </tbody>\n",
       "</table>\n",
       "</div>"
      ],
      "text/plain": [
       "                     Name  Number   Status\n",
       "player1         Oh Il-Nam       1  Playing\n",
       "player67   Kang Sae-byeok      67  Playing\n",
       "player101    Jang Deok-su     101  Playing\n",
       "player199       Abdul Ali     199  Playing\n",
       "player212     Han Mi-nyeo     212  Playing\n",
       "player281    Cho Sang-woo     218  Playing\n",
       "player240        Ji-yeong     240  Playing\n",
       "player456    Seong Gi-hun     456  Playing"
      ]
     },
     "execution_count": 12,
     "metadata": {},
     "output_type": "execute_result"
    }
   ],
   "source": [
    "df"
   ]
  },
  {
   "cell_type": "code",
   "execution_count": null,
   "metadata": {},
   "outputs": [],
   "source": [
    "#amending the value in a column "
   ]
  },
  {
   "cell_type": "code",
   "execution_count": 17,
   "metadata": {},
   "outputs": [],
   "source": [
    "df.loc[df.Number == 240, \"Status\"] = \"Eliminated\""
   ]
  },
  {
   "cell_type": "code",
   "execution_count": 18,
   "metadata": {},
   "outputs": [
    {
     "data": {
      "text/html": [
       "<div>\n",
       "<style scoped>\n",
       "    .dataframe tbody tr th:only-of-type {\n",
       "        vertical-align: middle;\n",
       "    }\n",
       "\n",
       "    .dataframe tbody tr th {\n",
       "        vertical-align: top;\n",
       "    }\n",
       "\n",
       "    .dataframe thead th {\n",
       "        text-align: right;\n",
       "    }\n",
       "</style>\n",
       "<table border=\"1\" class=\"dataframe\">\n",
       "  <thead>\n",
       "    <tr style=\"text-align: right;\">\n",
       "      <th></th>\n",
       "      <th>Name</th>\n",
       "      <th>Number</th>\n",
       "      <th>Status</th>\n",
       "    </tr>\n",
       "  </thead>\n",
       "  <tbody>\n",
       "    <tr>\n",
       "      <th>player1</th>\n",
       "      <td>Oh Il-Nam</td>\n",
       "      <td>1</td>\n",
       "      <td>Eliminated</td>\n",
       "    </tr>\n",
       "    <tr>\n",
       "      <th>player67</th>\n",
       "      <td>Kang Sae-byeok</td>\n",
       "      <td>67</td>\n",
       "      <td>Playing</td>\n",
       "    </tr>\n",
       "    <tr>\n",
       "      <th>player101</th>\n",
       "      <td>Jang Deok-su</td>\n",
       "      <td>101</td>\n",
       "      <td>Playing</td>\n",
       "    </tr>\n",
       "    <tr>\n",
       "      <th>player199</th>\n",
       "      <td>Abdul Ali</td>\n",
       "      <td>199</td>\n",
       "      <td>Eliminated</td>\n",
       "    </tr>\n",
       "    <tr>\n",
       "      <th>player212</th>\n",
       "      <td>Han Mi-nyeo</td>\n",
       "      <td>212</td>\n",
       "      <td>Playing</td>\n",
       "    </tr>\n",
       "    <tr>\n",
       "      <th>player281</th>\n",
       "      <td>Cho Sang-woo</td>\n",
       "      <td>218</td>\n",
       "      <td>Playing</td>\n",
       "    </tr>\n",
       "    <tr>\n",
       "      <th>player240</th>\n",
       "      <td>Ji-yeong</td>\n",
       "      <td>240</td>\n",
       "      <td>Eliminated</td>\n",
       "    </tr>\n",
       "    <tr>\n",
       "      <th>player456</th>\n",
       "      <td>Seong Gi-hun</td>\n",
       "      <td>456</td>\n",
       "      <td>Playing</td>\n",
       "    </tr>\n",
       "  </tbody>\n",
       "</table>\n",
       "</div>"
      ],
      "text/plain": [
       "                     Name  Number      Status\n",
       "player1         Oh Il-Nam       1  Eliminated\n",
       "player67   Kang Sae-byeok      67     Playing\n",
       "player101    Jang Deok-su     101     Playing\n",
       "player199       Abdul Ali     199  Eliminated\n",
       "player212     Han Mi-nyeo     212     Playing\n",
       "player281    Cho Sang-woo     218     Playing\n",
       "player240        Ji-yeong     240  Eliminated\n",
       "player456    Seong Gi-hun     456     Playing"
      ]
     },
     "execution_count": 18,
     "metadata": {},
     "output_type": "execute_result"
    }
   ],
   "source": [
    "df"
   ]
  },
  {
   "cell_type": "code",
   "execution_count": null,
   "metadata": {},
   "outputs": [],
   "source": [
    "#creating a new DataFrame with deleted rows "
   ]
  },
  {
   "cell_type": "code",
   "execution_count": 22,
   "metadata": {},
   "outputs": [],
   "source": [
    "round5 = df.drop(df.index[df['Status'] == \"Eliminated\"])"
   ]
  },
  {
   "cell_type": "code",
   "execution_count": null,
   "metadata": {},
   "outputs": [],
   "source": [
    "#view the new DataFrame"
   ]
  },
  {
   "cell_type": "code",
   "execution_count": 23,
   "metadata": {},
   "outputs": [
    {
     "data": {
      "text/html": [
       "<div>\n",
       "<style scoped>\n",
       "    .dataframe tbody tr th:only-of-type {\n",
       "        vertical-align: middle;\n",
       "    }\n",
       "\n",
       "    .dataframe tbody tr th {\n",
       "        vertical-align: top;\n",
       "    }\n",
       "\n",
       "    .dataframe thead th {\n",
       "        text-align: right;\n",
       "    }\n",
       "</style>\n",
       "<table border=\"1\" class=\"dataframe\">\n",
       "  <thead>\n",
       "    <tr style=\"text-align: right;\">\n",
       "      <th></th>\n",
       "      <th>Name</th>\n",
       "      <th>Number</th>\n",
       "      <th>Status</th>\n",
       "    </tr>\n",
       "  </thead>\n",
       "  <tbody>\n",
       "    <tr>\n",
       "      <th>player67</th>\n",
       "      <td>Kang Sae-byeok</td>\n",
       "      <td>67</td>\n",
       "      <td>Playing</td>\n",
       "    </tr>\n",
       "    <tr>\n",
       "      <th>player101</th>\n",
       "      <td>Jang Deok-su</td>\n",
       "      <td>101</td>\n",
       "      <td>Playing</td>\n",
       "    </tr>\n",
       "    <tr>\n",
       "      <th>player212</th>\n",
       "      <td>Han Mi-nyeo</td>\n",
       "      <td>212</td>\n",
       "      <td>Playing</td>\n",
       "    </tr>\n",
       "    <tr>\n",
       "      <th>player281</th>\n",
       "      <td>Cho Sang-woo</td>\n",
       "      <td>218</td>\n",
       "      <td>Playing</td>\n",
       "    </tr>\n",
       "    <tr>\n",
       "      <th>player456</th>\n",
       "      <td>Seong Gi-hun</td>\n",
       "      <td>456</td>\n",
       "      <td>Playing</td>\n",
       "    </tr>\n",
       "  </tbody>\n",
       "</table>\n",
       "</div>"
      ],
      "text/plain": [
       "                     Name  Number   Status\n",
       "player67   Kang Sae-byeok      67  Playing\n",
       "player101    Jang Deok-su     101  Playing\n",
       "player212     Han Mi-nyeo     212  Playing\n",
       "player281    Cho Sang-woo     218  Playing\n",
       "player456    Seong Gi-hun     456  Playing"
      ]
     },
     "execution_count": 23,
     "metadata": {},
     "output_type": "execute_result"
    }
   ],
   "source": [
    "round5.head()"
   ]
  },
  {
   "cell_type": "code",
   "execution_count": null,
   "metadata": {},
   "outputs": [],
   "source": [
    "#our original DataFrame with all rows "
   ]
  },
  {
   "cell_type": "code",
   "execution_count": 30,
   "metadata": {},
   "outputs": [
    {
     "data": {
      "text/html": [
       "<div>\n",
       "<style scoped>\n",
       "    .dataframe tbody tr th:only-of-type {\n",
       "        vertical-align: middle;\n",
       "    }\n",
       "\n",
       "    .dataframe tbody tr th {\n",
       "        vertical-align: top;\n",
       "    }\n",
       "\n",
       "    .dataframe thead th {\n",
       "        text-align: right;\n",
       "    }\n",
       "</style>\n",
       "<table border=\"1\" class=\"dataframe\">\n",
       "  <thead>\n",
       "    <tr style=\"text-align: right;\">\n",
       "      <th></th>\n",
       "      <th>Name</th>\n",
       "      <th>Number</th>\n",
       "      <th>Status</th>\n",
       "    </tr>\n",
       "  </thead>\n",
       "  <tbody>\n",
       "    <tr>\n",
       "      <th>player1</th>\n",
       "      <td>Oh Il-Nam</td>\n",
       "      <td>1</td>\n",
       "      <td>Eliminated</td>\n",
       "    </tr>\n",
       "    <tr>\n",
       "      <th>player67</th>\n",
       "      <td>Kang Sae-byeok</td>\n",
       "      <td>67</td>\n",
       "      <td>Playing</td>\n",
       "    </tr>\n",
       "    <tr>\n",
       "      <th>player101</th>\n",
       "      <td>Jang Deok-su</td>\n",
       "      <td>101</td>\n",
       "      <td>Playing</td>\n",
       "    </tr>\n",
       "    <tr>\n",
       "      <th>player199</th>\n",
       "      <td>Abdul Ali</td>\n",
       "      <td>199</td>\n",
       "      <td>Eliminated</td>\n",
       "    </tr>\n",
       "    <tr>\n",
       "      <th>player212</th>\n",
       "      <td>Han Mi-nyeo</td>\n",
       "      <td>212</td>\n",
       "      <td>Playing</td>\n",
       "    </tr>\n",
       "    <tr>\n",
       "      <th>player281</th>\n",
       "      <td>Cho Sang-woo</td>\n",
       "      <td>218</td>\n",
       "      <td>Playing</td>\n",
       "    </tr>\n",
       "    <tr>\n",
       "      <th>player240</th>\n",
       "      <td>Ji-yeong</td>\n",
       "      <td>240</td>\n",
       "      <td>Eliminated</td>\n",
       "    </tr>\n",
       "    <tr>\n",
       "      <th>player456</th>\n",
       "      <td>Seong Gi-hun</td>\n",
       "      <td>456</td>\n",
       "      <td>Playing</td>\n",
       "    </tr>\n",
       "  </tbody>\n",
       "</table>\n",
       "</div>"
      ],
      "text/plain": [
       "                     Name  Number      Status\n",
       "player1         Oh Il-Nam       1  Eliminated\n",
       "player67   Kang Sae-byeok      67     Playing\n",
       "player101    Jang Deok-su     101     Playing\n",
       "player199       Abdul Ali     199  Eliminated\n",
       "player212     Han Mi-nyeo     212     Playing\n",
       "player281    Cho Sang-woo     218     Playing\n",
       "player240        Ji-yeong     240  Eliminated\n",
       "player456    Seong Gi-hun     456     Playing"
      ]
     },
     "execution_count": 30,
     "metadata": {},
     "output_type": "execute_result"
    }
   ],
   "source": [
    "df.head(10)"
   ]
  },
  {
   "cell_type": "code",
   "execution_count": null,
   "metadata": {},
   "outputs": [],
   "source": [
    "#use column counts to create new variables "
   ]
  },
  {
   "cell_type": "code",
   "execution_count": 19,
   "metadata": {},
   "outputs": [],
   "source": [
    "eliminated = df[df['Status'] == \"Eliminated\"]['Name'].count()\n",
    "playing = df[df['Status'] == \"Playing\"]['Name'].count()\n"
   ]
  },
  {
   "cell_type": "code",
   "execution_count": null,
   "metadata": {},
   "outputs": [],
   "source": [
    "#make an f string with the variables "
   ]
  },
  {
   "cell_type": "code",
   "execution_count": 20,
   "metadata": {},
   "outputs": [
    {
     "name": "stdout",
     "output_type": "stream",
     "text": [
      "there are currently 5 players playing\n",
      "there are currently 3 players eliminated\n"
     ]
    }
   ],
   "source": [
    "print(f\"there are currently {playing} players playing\")\n",
    "print(f\"there are currently {eliminated} players eliminated\")"
   ]
  },
  {
   "cell_type": "code",
   "execution_count": null,
   "metadata": {},
   "outputs": [],
   "source": [
    "#and a mathmatical function with the variables"
   ]
  },
  {
   "cell_type": "code",
   "execution_count": 21,
   "metadata": {},
   "outputs": [
    {
     "data": {
      "text/plain": [
       "5"
      ]
     },
     "execution_count": 21,
     "metadata": {},
     "output_type": "execute_result"
    }
   ],
   "source": [
    "total_players = 8\n",
    "\n",
    "current = total_players - eliminated\n",
    "\n",
    "current"
   ]
  },
  {
   "cell_type": "code",
   "execution_count": null,
   "metadata": {},
   "outputs": [],
   "source": []
  }
 ],
 "metadata": {
  "kernelspec": {
   "display_name": "Python 3",
   "language": "python",
   "name": "python3"
  },
  "language_info": {
   "codemirror_mode": {
    "name": "ipython",
    "version": 3
   },
   "file_extension": ".py",
   "mimetype": "text/x-python",
   "name": "python",
   "nbconvert_exporter": "python",
   "pygments_lexer": "ipython3",
   "version": "3.7.6"
  }
 },
 "nbformat": 4,
 "nbformat_minor": 4
}
